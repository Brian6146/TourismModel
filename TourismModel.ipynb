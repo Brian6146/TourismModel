{
  "nbformat": 4,
  "nbformat_minor": 0,
  "metadata": {
    "colab": {
      "provenance": [],
      "authorship_tag": "ABX9TyMMrvJvT2twIwGBftU0v4e3",
      "include_colab_link": true
    },
    "kernelspec": {
      "name": "python3",
      "display_name": "Python 3"
    },
    "language_info": {
      "name": "python"
    }
  },
  "cells": [
    {
      "cell_type": "markdown",
      "metadata": {
        "id": "view-in-github",
        "colab_type": "text"
      },
      "source": [
        "<a href=\"https://colab.research.google.com/github/Brian6146/TourismModel/blob/main/TourismModel.ipynb\" target=\"_parent\"><img src=\"https://colab.research.google.com/assets/colab-badge.svg\" alt=\"Open In Colab\"/></a>"
      ]
    },
    {
      "cell_type": "code",
      "execution_count": null,
      "metadata": {
        "id": "_ZfTdQQaNTNn"
      },
      "outputs": [],
      "source": [
        "import os\n",
        "import torch\n",
        "import torch.nn as nn\n",
        "import torch.optim as optim\n",
        "from torch.utils.data import DataLoader ,random_split\n",
        "from torchvision import datasets, transforms\n",
        "from collections import Counter\n",
        "from PIL import Image\n",
        "import matplotlib.pyplot as plt\n",
        "import numpy as np\n",
        "from tqdm.notebook import tqdm\n",
        "from sklearn.metrics import confusion_matrix,ConfusionMatrixDisplay\n",
        "from torchinfo import summary"
      ]
    },
    {
      "cell_type": "code",
      "source": [
        "if torch.cuda.is_available():\n",
        "  device=\"cuda\"\n",
        "elif torch.backends.mps.is_available():\n",
        "  device=\"mps\"\n",
        "else:\n",
        "  device=\"cpu\"\n",
        "\n",
        "print(f\"device is running on {device}\")"
      ],
      "metadata": {
        "id": "eASo6goQNZHX"
      },
      "execution_count": null,
      "outputs": []
    },
    {
      "cell_type": "code",
      "source": [
        "train_dir=os.path.join(\"train\")\n",
        "classes=os.listdir(train_dir)\n",
        "print(classes)\n",
        "\n",
        "#ConvertToRGB\n",
        "class ConvertToRGB(object):\n",
        "  def __call__(self,img):\n",
        "    if img != \"RGB\":\n",
        "      img=img.convert(\"RGB\")\n",
        "    return img\n",
        "#Build transformer pipeline\n",
        "transform= transforms.Compose([\n",
        "    ConvertToRGB(),\n",
        "    transforms.Resize((224,224)),\n",
        "    transforms.ToTensor()\n",
        "\n",
        "    ])\n",
        "#Test if transformer pipeline is working\n",
        "sample_file=os.path.join(\"train\",\"cheetah\",\"Image_1.jpg\")\n",
        "image=Image.open(sample_file)\n",
        "transformed_img=transform(image)\n",
        "print(transformed_img.shape)\n",
        "\n",
        "dataset=datasets.ImageFolder(train_dir,transform=transform)\n",
        "print(\"image size\",dataset[0][0].shape)\n",
        "print(\"Label\",dataset[0][1])"
      ],
      "metadata": {
        "id": "sn4ktOJONpvK"
      },
      "execution_count": null,
      "outputs": []
    },
    {
      "cell_type": "code",
      "source": [
        "dataset=datasets.ImageFolder(train_dir,transform=transform)\n",
        "print(\"image size\",dataset[0][0].shape)\n",
        "print(\"Label\",dataset[0][1])\n",
        "\n",
        "#get the counts ,the keys are the class indices not the names\n",
        "counts =Counter(x[1] for x in tqdm(dataset))\n",
        "print(\"The counts dictionary:\", counts)\n",
        "#This dictionary maps class names to their indices\n",
        "print(\"The class_to_idx dictionary\",dataset.class_to_idx)\n",
        "#Reverse the mapping\n",
        "idx_to_class = {idx:class_name for class_name,idx in dataset.class_to_idx.items()}\n",
        "\n",
        "class_distribution={idx_to_class[idx]:count for idx,count in counts.items()}\n",
        "print(\"Class distribution:\",class_distribution)"
      ],
      "metadata": {
        "id": "ppaI5EHAN-eS"
      },
      "execution_count": null,
      "outputs": []
    },
    {
      "cell_type": "code",
      "source": [
        "#transform data\n",
        "batch_size=32\n",
        "dataset_loader=DataLoader(dataset,batch_size=batch_size,shuffle=True)\n",
        "\n",
        "#get one batch\n",
        "first_batch=next(iter(dataset_loader))\n",
        "print(\"Batch shape\",first_batch[0].shape)\n",
        "print(\"Label shape\",first_batch[1].shape)"
      ],
      "metadata": {
        "id": "uNTSGPzAOSg0"
      },
      "execution_count": null,
      "outputs": []
    },
    {
      "cell_type": "code",
      "source": [
        "#transform data\n",
        "batch_size=32\n",
        "dataset_loader=DataLoader(dataset,batch_size=batch_size,shuffle=True)\n",
        "\n",
        "#get one batch\n",
        "first_batch=next(iter(dataset_loader))\n",
        "print(\"Batch shape\",first_batch[0].shape)\n",
        "print(\"Label shape\",first_batch[1].shape)"
      ],
      "metadata": {
        "id": "xgggMIdSOZ_k"
      },
      "execution_count": null,
      "outputs": []
    },
    {
      "cell_type": "code",
      "source": [
        "transform_norm=transforms.Compose([\n",
        "    ConvertToRGB(),\n",
        "    transforms.Resize((224,224)),\n",
        "    transforms.ToTensor(),\n",
        "    transforms.Normalize(mean,std)\n",
        "])\n",
        "\n",
        "norm_dataset=datasets.ImageFolder(root=train_dir,transform=transform_norm)\n",
        "print(\"Image size\",norm_dataset[0][0].shape)\n",
        "print(\"Label\",norm_dataset[0][1])\n",
        ""
      ],
      "metadata": {
        "id": "Cr_tUllGOeHy"
      },
      "execution_count": null,
      "outputs": []
    },
    {
      "cell_type": "code",
      "source": [
        "g=torch.Generator()\n",
        "g.manual_seed(42)\n",
        "\n",
        "train_dataset,val_dataset=random_split(norm_dataset,[0.8,0.2],generator=g)\n",
        "\n",
        "print(\"Length of train dataset\",len(train_dataset))\n",
        "print(\"Length of val dataset\",len(val_dataset))\n",
        "\n",
        "train_loader=DataLoader(train_dataset,batch_size=batch_size,shuffle=True)\n",
        "val_loader=DataLoader(val_dataset,batch_size=batch_size)"
      ],
      "metadata": {
        "id": "l75oUSyiOjvc"
      },
      "execution_count": null,
      "outputs": []
    },
    {
      "cell_type": "code",
      "source": [
        "model=torch.nn.Sequential(\n",
        "    nn.Conv2d(in_channels=3,out_channels=32,kernel_size=3,padding=1),\n",
        "    nn.ReLU(),\n",
        "    nn.MaxPool2d(kernel_size=2),\n",
        "\n",
        "    nn.Conv2d(in_channels=32,out_channels=64,kernel_size=3,padding=1),\n",
        "    nn.ReLU(),\n",
        "    nn.MaxPool2d(kernel_size=2),\n",
        "\n",
        "    nn.Flatten(),\n",
        "    nn.Dropout(p=0.5),\n",
        "    nn.Linear(in_features=64*56*56,out_features=128),\n",
        "    nn.ReLU(),\n",
        "    nn.Dropout(p=0.5),\n",
        "    nn.Linear(in_features=128,out_features=4)\n",
        ")\n",
        "\n",
        "batch_size=32\n",
        "height=width=224\n",
        "\n",
        "summary(model,input_size=(batch_size,3,height,width))\n",
        ""
      ],
      "metadata": {
        "id": "WwYXV_CkOrvr"
      },
      "execution_count": null,
      "outputs": []
    },
    {
      "cell_type": "code",
      "source": [
        "#prepare the model for training\n",
        "loss_fn=torch.nn.CrossEntropyLoss()\n",
        "optimizer=torch.optim.Adam(model.parameters(),lr=0.001)\n",
        "device=\"cpu\"\n",
        "model.to(device)"
      ],
      "metadata": {
        "id": "Yl-sCfROOs-f"
      },
      "execution_count": null,
      "outputs": []
    },
    {
      "cell_type": "code",
      "source": [
        "def train_epoch(model, optimizer, loss_fn, data_loader, device=\"cpu\"):\n",
        "    training_loss = 0.0\n",
        "    model.train()\n",
        "\n",
        "    # Iterate over all batches in the training set to complete one epoch\n",
        "    for inputs, targets in tqdm(data_loader, desc=\"Training\", leave=False):\n",
        "        optimizer.zero_grad()\n",
        "        inputs = inputs.to(device)\n",
        "        targets = targets.to(device)\n",
        "\n",
        "        output = model(inputs)\n",
        "        loss = loss_fn(output, targets)\n",
        "\n",
        "        loss.backward()\n",
        "        optimizer.step()\n",
        "        training_loss += loss.data.item() * inputs.size(0)\n",
        "\n",
        "    return training_loss / len(data_loader.dataset)\n",
        "\n",
        "\n",
        "\n",
        "def predict(model, data_loader, device=\"cpu\"):\n",
        "    all_probs = torch.tensor([]).to(device)\n",
        "\n",
        "    model.eval()\n",
        "    with torch.no_grad():\n",
        "        for inputs, targets in tqdm(data_loader, desc=\"Predicting\", leave=False):\n",
        "            inputs = inputs.to(device)\n",
        "            output = model(inputs)\n",
        "            probs = torch.nn.functional.softmax(output, dim=1)\n",
        "            all_probs = torch.cat((all_probs, probs), dim=0)\n",
        "\n",
        "    return all_probs\n",
        "\n",
        "\n",
        "\n",
        "def score(model, data_loader, loss_fn, device=\"cpu\"):\n",
        "    total_loss = 0\n",
        "    total_correct = 0\n",
        "\n",
        "    model.eval()\n",
        "    with torch.no_grad():\n",
        "        for inputs, targets in tqdm(data_loader, desc=\"Scoring\", leave=False):\n",
        "            inputs = inputs.to(device)\n",
        "            output = model(inputs)\n",
        "\n",
        "            targets = targets.to(device)\n",
        "            loss = loss_fn(output, targets)\n",
        "            total_loss += loss.data.item() * inputs.size(0)\n",
        "\n",
        "            correct = torch.eq(torch.argmax(output, dim=1), targets)\n",
        "            total_correct += torch.sum(correct).item()\n",
        "    average_loss = total_loss / len(data_loader.dataset)\n",
        "    accuracy = total_correct / len(data_loader.dataset)\n",
        "    return average_loss, accuracy\n",
        "\n",
        "\n",
        "\n",
        "def train(model, optimizer, loss_fn, train_loader, val_loader, epochs=20, device=\"cpu\"):\n",
        "    for epoch in range(1, epochs + 1):\n",
        "        training_loss = train_epoch(model, optimizer, loss_fn, train_loader, device)\n",
        "\n",
        "        # Test on validation set\n",
        "        validation_loss, validation_accuracy = score(model, val_loader, loss_fn, device)\n",
        "\n",
        "        print(\n",
        "            f\"Epoch: {epoch}, Training Loss: {training_loss:.2f}, \"\n",
        "            f\"Validation Loss: {validation_loss:.2f}, Validation accuracy = {validation_accuracy:.2f}\"\n",
        "        )"
      ],
      "metadata": {
        "id": "LD8N6m-COwC8"
      },
      "execution_count": null,
      "outputs": []
    },
    {
      "cell_type": "code",
      "source": [
        "train(model,optimizer,loss_fn,train_loader,val_loader,epochs=20,device=device)"
      ],
      "metadata": {
        "id": "6SP8kaY9O1d7"
      },
      "execution_count": null,
      "outputs": []
    },
    {
      "cell_type": "code",
      "source": [
        "#Evaluate model performance\n",
        "#compute the probabilities for each validation image\n",
        "probabilities=predict(model,val_loader,device)\n",
        "predictions=torch.argmax(probabilities,dim=1)\n",
        "print(\"Number of predictions\",predictions.shape)"
      ],
      "metadata": {
        "id": "ZZOuCOOoPc3B"
      },
      "execution_count": null,
      "outputs": []
    },
    {
      "cell_type": "code",
      "source": [
        "#Create a confusion matrix for the predictions on the validation set\n",
        "targets=[]\n",
        "for _,labels in tqdm(val_loader):\n",
        "  targets.extend(labels.tolist())\n",
        "\n",
        "fig,ax=plt.subplots(figsize=(10,6))\n",
        "\n",
        "cm=confusion_matrix(targets,predictions.cpu())\n",
        "\n",
        "#Get the class names\n",
        "classes=os.listdir(train_dir)\n",
        "\n",
        "#Display the confusion matrix\n",
        "disp=ConfusionMatrixDisplay(confusion_matrix=cm,display_labels=classes)\n",
        "disp.plot(cmap=plt.cm.Blues, xticks_rotation=45,ax=ax)\n",
        "\n"
      ],
      "metadata": {
        "id": "LcvR00kdPhO5"
      },
      "execution_count": null,
      "outputs": []
    },
    {
      "cell_type": "code",
      "source": [
        "test_dir=os.path.join(\"test\")\n",
        "test_dataset=datasets.ImageFolder(test_dir,transform_norm)\n",
        "test_loader=DataLoader(test_dataset,batch_size=10)\n",
        "print(\"Number of test images\",len(test_dataset))"
      ],
      "metadata": {
        "id": "HM3iSmiyPidF"
      },
      "execution_count": null,
      "outputs": []
    },
    {
      "cell_type": "code",
      "source": [
        "#predict the probabilities for each test image\n",
        "test_probabilities=predict(model,test_loader,device)\n",
        "test_predictions=torch.argmax(probabilities,dim=1)\n",
        "print(\"Number of predictions\",predictions.shape)\n",
        "\n",
        "test_classes=[classes[i] for i in test_predictions]\n",
        "print(\"Number of class predictions:\",len(test_classes))"
      ],
      "metadata": {
        "id": "N8SI1vl2PmIj"
      },
      "execution_count": null,
      "outputs": []
    },
    {
      "cell_type": "code",
      "source": [
        "import matplotlib.pyplot as plt\n",
        "import random\n",
        "\n",
        "#Sample 12 random indices from the test dataset\n",
        "random_indices=random.sample(range(len(test_loader.dataset.samples)),12)\n",
        "\n",
        "fig,axes=plt.subplots(4,3,figsize=(20,10))\n",
        "\n",
        "#Iterates over the sampled indices and plots the corresponding images\n",
        "for ax,idx in zip(axes.flatten(),random_indices):\n",
        "  img_path=test_loader.dataset.samples[idx][0]\n",
        "  img=Image.open(img_path)\n",
        "\n",
        "  #Displays images on the axis\n",
        "  ax.imshow(img)\n",
        "  ax.axis(\"off\")\n",
        "\n",
        "  #Gets the predicted class for the image\n",
        "  predicted_class=test_classes[idx]\n",
        "\n",
        "  #Sets the title of the axis to the predicted class\n",
        "  ax.set_title(predicted_class)\n",
        "\n",
        "\n",
        "\n",
        "plt.tight_layout()"
      ],
      "metadata": {
        "id": "WrcHn-I3PqIX"
      },
      "execution_count": null,
      "outputs": []
    }
  ]
}